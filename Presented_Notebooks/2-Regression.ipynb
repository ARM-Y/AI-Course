{
 "cells": [
  {
   "cell_type": "markdown",
   "id": "5c42c9c1",
   "metadata": {
    "id": "5c42c9c1"
   },
   "source": [
    "# Regression Analysis\n",
    "This notebook performs regression analysis using a car price dataset from Kaggle."
   ]
  },
  {
   "cell_type": "markdown",
   "id": "d478dc70",
   "metadata": {
    "id": "d478dc70"
   },
   "source": [
    "## Step 1: Read Dataset\n",
    "Please download the [Car Price Prediction Dataset](https://www.kaggle.com/datasets/ngawangchoeda/car-price-dataset).\n",
    "\n",
    "Use the following code cell to read the dataset."
   ]
  },
  {
   "cell_type": "code",
   "execution_count": 13,
   "id": "2ed80b99",
   "metadata": {
    "colab": {
     "base_uri": "https://localhost:8080/",
     "height": 363
    },
    "id": "2ed80b99",
    "outputId": "88976e08-2e1c-46c5-d0cd-d595be30afa2"
   },
   "outputs": [
    {
     "data": {
      "text/html": [
       "<div>\n",
       "<style scoped>\n",
       "    .dataframe tbody tr th:only-of-type {\n",
       "        vertical-align: middle;\n",
       "    }\n",
       "\n",
       "    .dataframe tbody tr th {\n",
       "        vertical-align: top;\n",
       "    }\n",
       "\n",
       "    .dataframe thead th {\n",
       "        text-align: right;\n",
       "    }\n",
       "</style>\n",
       "<table border=\"1\" class=\"dataframe\">\n",
       "  <thead>\n",
       "    <tr style=\"text-align: right;\">\n",
       "      <th></th>\n",
       "      <th>car_ID</th>\n",
       "      <th>symboling</th>\n",
       "      <th>CarName</th>\n",
       "      <th>fueltype</th>\n",
       "      <th>aspiration</th>\n",
       "      <th>doornumber</th>\n",
       "      <th>carbody</th>\n",
       "      <th>drivewheel</th>\n",
       "      <th>enginelocation</th>\n",
       "      <th>wheelbase</th>\n",
       "      <th>...</th>\n",
       "      <th>enginesize</th>\n",
       "      <th>fuelsystem</th>\n",
       "      <th>boreratio</th>\n",
       "      <th>stroke</th>\n",
       "      <th>compressionratio</th>\n",
       "      <th>horsepower</th>\n",
       "      <th>peakrpm</th>\n",
       "      <th>citympg</th>\n",
       "      <th>highwaympg</th>\n",
       "      <th>price</th>\n",
       "    </tr>\n",
       "  </thead>\n",
       "  <tbody>\n",
       "    <tr>\n",
       "      <th>0</th>\n",
       "      <td>1</td>\n",
       "      <td>3</td>\n",
       "      <td>alfa-romero giulia</td>\n",
       "      <td>gas</td>\n",
       "      <td>std</td>\n",
       "      <td>two</td>\n",
       "      <td>convertible</td>\n",
       "      <td>rwd</td>\n",
       "      <td>front</td>\n",
       "      <td>88.6</td>\n",
       "      <td>...</td>\n",
       "      <td>130</td>\n",
       "      <td>mpfi</td>\n",
       "      <td>3.47</td>\n",
       "      <td>2.68</td>\n",
       "      <td>9.0</td>\n",
       "      <td>111</td>\n",
       "      <td>5000</td>\n",
       "      <td>21</td>\n",
       "      <td>27</td>\n",
       "      <td>13495.0</td>\n",
       "    </tr>\n",
       "    <tr>\n",
       "      <th>1</th>\n",
       "      <td>2</td>\n",
       "      <td>3</td>\n",
       "      <td>alfa-romero stelvio</td>\n",
       "      <td>gas</td>\n",
       "      <td>std</td>\n",
       "      <td>two</td>\n",
       "      <td>convertible</td>\n",
       "      <td>rwd</td>\n",
       "      <td>front</td>\n",
       "      <td>88.6</td>\n",
       "      <td>...</td>\n",
       "      <td>130</td>\n",
       "      <td>mpfi</td>\n",
       "      <td>3.47</td>\n",
       "      <td>2.68</td>\n",
       "      <td>9.0</td>\n",
       "      <td>111</td>\n",
       "      <td>5000</td>\n",
       "      <td>21</td>\n",
       "      <td>27</td>\n",
       "      <td>16500.0</td>\n",
       "    </tr>\n",
       "    <tr>\n",
       "      <th>2</th>\n",
       "      <td>3</td>\n",
       "      <td>1</td>\n",
       "      <td>alfa-romero Quadrifoglio</td>\n",
       "      <td>gas</td>\n",
       "      <td>std</td>\n",
       "      <td>two</td>\n",
       "      <td>hatchback</td>\n",
       "      <td>rwd</td>\n",
       "      <td>front</td>\n",
       "      <td>94.5</td>\n",
       "      <td>...</td>\n",
       "      <td>152</td>\n",
       "      <td>mpfi</td>\n",
       "      <td>2.68</td>\n",
       "      <td>3.47</td>\n",
       "      <td>9.0</td>\n",
       "      <td>154</td>\n",
       "      <td>5000</td>\n",
       "      <td>19</td>\n",
       "      <td>26</td>\n",
       "      <td>16500.0</td>\n",
       "    </tr>\n",
       "    <tr>\n",
       "      <th>3</th>\n",
       "      <td>4</td>\n",
       "      <td>2</td>\n",
       "      <td>audi 100 ls</td>\n",
       "      <td>gas</td>\n",
       "      <td>std</td>\n",
       "      <td>four</td>\n",
       "      <td>sedan</td>\n",
       "      <td>fwd</td>\n",
       "      <td>front</td>\n",
       "      <td>99.8</td>\n",
       "      <td>...</td>\n",
       "      <td>109</td>\n",
       "      <td>mpfi</td>\n",
       "      <td>3.19</td>\n",
       "      <td>3.40</td>\n",
       "      <td>10.0</td>\n",
       "      <td>102</td>\n",
       "      <td>5500</td>\n",
       "      <td>24</td>\n",
       "      <td>30</td>\n",
       "      <td>13950.0</td>\n",
       "    </tr>\n",
       "    <tr>\n",
       "      <th>4</th>\n",
       "      <td>5</td>\n",
       "      <td>2</td>\n",
       "      <td>audi 100ls</td>\n",
       "      <td>gas</td>\n",
       "      <td>std</td>\n",
       "      <td>four</td>\n",
       "      <td>sedan</td>\n",
       "      <td>4wd</td>\n",
       "      <td>front</td>\n",
       "      <td>99.4</td>\n",
       "      <td>...</td>\n",
       "      <td>136</td>\n",
       "      <td>mpfi</td>\n",
       "      <td>3.19</td>\n",
       "      <td>3.40</td>\n",
       "      <td>8.0</td>\n",
       "      <td>115</td>\n",
       "      <td>5500</td>\n",
       "      <td>18</td>\n",
       "      <td>22</td>\n",
       "      <td>17450.0</td>\n",
       "    </tr>\n",
       "  </tbody>\n",
       "</table>\n",
       "<p>5 rows × 26 columns</p>\n",
       "</div>"
      ],
      "text/plain": [
       "   car_ID  symboling                   CarName fueltype aspiration doornumber  \\\n",
       "0       1          3        alfa-romero giulia      gas        std        two   \n",
       "1       2          3       alfa-romero stelvio      gas        std        two   \n",
       "2       3          1  alfa-romero Quadrifoglio      gas        std        two   \n",
       "3       4          2               audi 100 ls      gas        std       four   \n",
       "4       5          2                audi 100ls      gas        std       four   \n",
       "\n",
       "       carbody drivewheel enginelocation  wheelbase  ...  enginesize  \\\n",
       "0  convertible        rwd          front       88.6  ...         130   \n",
       "1  convertible        rwd          front       88.6  ...         130   \n",
       "2    hatchback        rwd          front       94.5  ...         152   \n",
       "3        sedan        fwd          front       99.8  ...         109   \n",
       "4        sedan        4wd          front       99.4  ...         136   \n",
       "\n",
       "   fuelsystem  boreratio  stroke compressionratio horsepower  peakrpm citympg  \\\n",
       "0        mpfi       3.47    2.68              9.0        111     5000      21   \n",
       "1        mpfi       3.47    2.68              9.0        111     5000      21   \n",
       "2        mpfi       2.68    3.47              9.0        154     5000      19   \n",
       "3        mpfi       3.19    3.40             10.0        102     5500      24   \n",
       "4        mpfi       3.19    3.40              8.0        115     5500      18   \n",
       "\n",
       "   highwaympg    price  \n",
       "0          27  13495.0  \n",
       "1          27  16500.0  \n",
       "2          26  16500.0  \n",
       "3          30  13950.0  \n",
       "4          22  17450.0  \n",
       "\n",
       "[5 rows x 26 columns]"
      ]
     },
     "execution_count": 13,
     "metadata": {},
     "output_type": "execute_result"
    }
   ],
   "source": [
    "import pandas as pd\n",
    "\n",
    "df = pd.read_csv(\"CarPrice.csv\")\n",
    "df.head()"
   ]
  },
  {
   "cell_type": "markdown",
   "id": "cf1194c4",
   "metadata": {
    "id": "cf1194c4"
   },
   "source": [
    "## Step 2: Data Preprocessing\n",
    "We will extract numerical features and select a subset for modeling."
   ]
  },
  {
   "cell_type": "code",
   "execution_count": 20,
   "id": "5fb332fc",
   "metadata": {
    "id": "5fb332fc"
   },
   "outputs": [],
   "source": [
    "# Selecting relevant features\n",
    "features = ['enginesize', 'horsepower', 'curbweight', 'highwaympg']\n",
    "target = 'price'\n",
    "df = df[features + [target]].dropna()\n",
    "\n",
    "# Import train_test_split from sklearn.model_selection\n",
    "from sklearn.model_selection import train_test_split\n",
    "\n",
    "# Sampling 100 random rows\n",
    "sample_data = df.sample(100, random_state=42)\n",
    "\n",
    "# Splitting the train and test data (20% test / 80% train)\n",
    "train_data, test_data = train_test_split(sample_data, test_size=0.2, random_state=42)\n",
    "X_train, y_train = train_data[features], train_data[target]\n",
    "X_test, y_test = test_data[features], test_data[target]"
   ]
  },
  {
   "cell_type": "markdown",
   "id": "101d969b",
   "metadata": {},
   "source": [
    "## Step 3: Univariate Regression\n",
    "Univariate regression uses only one feature. Here, we use 'horsepower' as our feature."
   ]
  },
  {
   "cell_type": "code",
   "execution_count": 21,
   "id": "4cddbee3",
   "metadata": {},
   "outputs": [],
   "source": [
    "from sklearn.linear_model import LinearRegression\n",
    "from sklearn.preprocessing import PolynomialFeatures\n",
    "import numpy as np\n",
    "\n",
    "# Using 'horsepower' as the single feature against 'price'\n",
    "X_uni = X_train[['horsepower']].values\n",
    "y_uni = y_train.values\n",
    "\n",
    "# Linear Regression\n",
    "lin_reg = LinearRegression()\n",
    "lin_reg.fit(X_uni, y_uni)\n",
    "y_lin_pred = lin_reg.predict(X_uni)\n",
    "\n",
    "# Polynomial Regression (degree 2)\n",
    "poly = PolynomialFeatures(degree=2)\n",
    "X_poly = poly.fit_transform(X_uni)\n",
    "poly_reg = LinearRegression()\n",
    "poly_reg.fit(X_poly, y_uni)\n",
    "y_poly_pred = poly_reg.predict(X_poly)"
   ]
  },
  {
   "cell_type": "markdown",
   "id": "b79f126c",
   "metadata": {
    "id": "b79f126c"
   },
   "source": [
    "## Step 4: Visualization"
   ]
  },
  {
   "cell_type": "code",
   "execution_count": 30,
   "id": "3aa3353a",
   "metadata": {},
   "outputs": [
    {
     "data": {
      "image/png": "[encoded data removed]",
      "text/plain": [
       "<Figure size 1200x500 with 2 Axes>"
      ]
     },
     "metadata": {},
     "output_type": "display_data"
    }
   ],
   "source": [
    "import matplotlib.pyplot as plt\n",
    "\n",
    "plt.figure(figsize=(12, 5))\n",
    "\n",
    "# Linear regression\n",
    "plt.subplot(1, 2, 1)\n",
    "plt.scatter(X_uni, y_uni, color='blue', label='Actual')\n",
    "plt.plot(X_uni, y_lin_pred, color='red', label='Linear Fit')\n",
    "plt.xlabel('Horse Power')\n",
    "plt.ylabel('Price')\n",
    "plt.title('Univariate Linear Regression')\n",
    "plt.legend()\n",
    "\n",
    "# Polynomial Regression\n",
    "plt.subplot(1, 2, 2)\n",
    "sorted_idx = np.argsort(X_uni.flatten())\n",
    "plt.scatter(X_uni, y_uni, color='blue', label='Actual')\n",
    "plt.plot(X_uni[sorted_idx], y_poly_pred[sorted_idx], color='green', label='Polynomial Fit')\n",
    "plt.xlabel('Horse Power')\n",
    "plt.ylabel('Price')\n",
    "plt.title('Univariate Polynomial Regression')\n",
    "plt.legend()\n",
    "\n",
    "plt.tight_layout()\n",
    "plt.show()"
   ]
  },
  {
   "cell_type": "markdown",
   "id": "b53024a6",
   "metadata": {
    "id": "b53024a6"
   },
   "source": [
    "## Step 5: Multiple Linear Regression\n",
    "We will develop a linear regression model using multiple features, unlike the univariate setting."
   ]
  },
  {
   "cell_type": "code",
   "execution_count": 26,
   "id": "8f011079",
   "metadata": {
    "colab": {
     "base_uri": "https://localhost:8080/"
    },
    "id": "8f011079",
    "outputId": "4fc3b2bd-ab0e-4f2b-d47f-697e72112267"
   },
   "outputs": [
    {
     "name": "stdout",
     "output_type": "stream",
     "text": [
      "The R-squared metric for MLP model is: 87.87 %\n"
     ]
    }
   ],
   "source": [
    "# Import LinearRegression and r2_score\n",
    "from sklearn.linear_model import LinearRegression\n",
    "from sklearn.metrics import r2_score\n",
    "\n",
    "# Applying Multiple Linear Regression\n",
    "linear_model = LinearRegression()\n",
    "linear_model.fit(X_train, y_train)\n",
    "\n",
    "# Calculating R-squared on test data \n",
    "y_pred_linear = linear_model.predict(X_test)\n",
    "r2_linear = r2_score(y_test, y_pred_linear)\n",
    "\n",
    "print(f\"The R-squared metric for MLP model is: {r2_linear*100:.2f} %\")"
   ]
  },
  {
   "cell_type": "markdown",
   "id": "f87d5665",
   "metadata": {
    "id": "f87d5665"
   },
   "source": [
    "## Step 6: Polynomial Regression\n",
    "Finally, we develop a Polynomial Regression with multiple features."
   ]
  },
  {
   "cell_type": "code",
   "execution_count": 31,
   "id": "c843d8ba",
   "metadata": {
    "colab": {
     "base_uri": "https://localhost:8080/"
    },
    "id": "c843d8ba",
    "outputId": "160edb62-9a1c-4259-d4db-33093aaf2acd"
   },
   "outputs": [
    {
     "name": "stdout",
     "output_type": "stream",
     "text": [
      "The R-squared metric for Polynomial Regression model is: 89.54 %\n"
     ]
    }
   ],
   "source": [
    "# Import PolynomialFeatures from sklearn.preprocessing\n",
    "from sklearn.preprocessing import PolynomialFeatures\n",
    "\n",
    "# Applying Polynomial Regression\n",
    "poly = PolynomialFeatures(degree=2)\n",
    "X_poly = poly.fit_transform(X_train)\n",
    "poly_model = LinearRegression()\n",
    "poly_model.fit(X_poly, y_train)\n",
    "\n",
    "# Calculating R-squared on test data \n",
    "y_pred_poly = poly_model.predict(poly.transform(X_test))\n",
    "r2_poly = r2_score(y_test, y_pred_poly)\n",
    "\n",
    "print(f\"The R-squared metric for Polynomial Regression model is: {r2_poly*100:.2f} %\")"
   ]
  },
  {
   "cell_type": "markdown",
   "id": "8715eb9b",
   "metadata": {},
   "source": [
    "Clearly, using R-squared metric, the Polynomial Regression is a superior model."
   ]
  }
 ],
 "metadata": {
  "colab": {
   "provenance": []
  },
  "kernelspec": {
   "display_name": "Python 3 (ipykernel)",
   "language": "python",
   "name": "python3"
  },
  "language_info": {
   "codemirror_mode": {
    "name": "ipython",
    "version": 3
   },
   "file_extension": ".py",
   "mimetype": "text/x-python",
   "name": "python",
   "nbconvert_exporter": "python",
   "pygments_lexer": "ipython3",
   "version": "3.11.5"
  }
 },
 "nbformat": 4,
 "nbformat_minor": 5
}
